{
  "nbformat": 4,
  "nbformat_minor": 0,
  "metadata": {
    "colab": {
      "provenance": [],
      "collapsed_sections": [],
      "authorship_tag": "ABX9TyOG/JGyp2a4ig1e3KqGFvFR",
      "include_colab_link": true
    },
    "kernelspec": {
      "name": "python3",
      "display_name": "Python 3"
    },
    "language_info": {
      "name": "python"
    }
  },
  "cells": [
    {
      "cell_type": "markdown",
      "metadata": {
        "id": "view-in-github",
        "colab_type": "text"
      },
      "source": [
        "<a href=\"https://colab.research.google.com/github/SimenKlemp/Tensorflow/blob/main/hw2.ipynb\" target=\"_parent\"><img src=\"https://colab.research.google.com/assets/colab-badge.svg\" alt=\"Open In Colab\"/></a>"
      ]
    },
    {
      "cell_type": "markdown",
      "source": [
        "Problem 1"
      ],
      "metadata": {
        "id": "Xk--i7gOJmgo"
      }
    },
    {
      "cell_type": "code",
      "source": [
        "import tensorflow as tf\n",
        "import keras as ks\n",
        "\n",
        "x1 = tf.constant([0.1])\n",
        "x2 = tf.constant([0.2])\n",
        "w1 = tf.constant([0.15])\n",
        "w2 = tf.constant([0.05])\n",
        "b1 = tf.constant([0.33])\n",
        "z1 = tf.constant([0.355])\n",
        "w3 = tf.constant([0.36])\n",
        "b2 = tf.constant([0.56])\n",
        "\n",
        "@tf.function\n",
        "def z2(x):\n",
        "  return ((x*w3) + b2)\n",
        "\n",
        "@tf.function\n",
        "def linear(x):\n",
        "  return x\n",
        "\n",
        "@tf.function\n",
        "def sigmoid(x):\n",
        "  return (1/(1+tf.math.exp(-x)))\n",
        "\n",
        "@tf.function\n",
        "def null():\n",
        "  return 0\n",
        "\n",
        "@tf.function\n",
        "def tanh(x):\n",
        "  return ((tf.math.exp(x) - tf.math.exp(-x))/(tf.math.exp(x) + tf.math.exp(-x)))\n",
        "\n",
        "\n",
        "@tf.function\n",
        "def ReLu(x):\n",
        "  if x < 0:\n",
        "    return 0.\n",
        "  return x\n",
        "\n",
        "\n",
        "\n",
        "#Linear\n",
        "a1_linear = linear(z1)\n",
        "z2_linear = z2(a1_linear)\n",
        "a2_linear = linear(z2_linear)\n",
        "\n",
        "#Tanh\n",
        "a1_tanh = tanh(z1)\n",
        "z2_tanh = z2(a1_tanh)\n",
        "a2_tanh = tanh(z2_tanh)\n",
        "\n",
        "#ReLu\n",
        "a1_reLu = ReLu(z1)\n",
        "z2_reLu = z2(a1_reLu)\n",
        "a2_reLu = linear(z2_reLu)\n",
        "\n",
        "\n",
        "print(\"Linear\")\n",
        "print(a1_linear)\n",
        "print(a2_linear)\n",
        "print(\"\\n\")\n",
        "\n",
        "print(\"Tanh\")\n",
        "print(a1_tanh)\n",
        "print(a2_tanh)\n",
        "print(\"\\n\")\n",
        "\n",
        "print(\"reLU\")\n",
        "print(a1_reLu)\n",
        "print(a2_reLu)\n",
        "\n",
        "\n"
      ],
      "metadata": {
        "colab": {
          "base_uri": "https://localhost:8080/"
        },
        "id": "QuTRfpY8JsKA",
        "outputId": "617026b5-889a-4935-b1d2-7fb73c8d4280"
      },
      "execution_count": 32,
      "outputs": [
        {
          "output_type": "stream",
          "name": "stdout",
          "text": [
            "Linear\n",
            "tf.Tensor([0.355], shape=(1,), dtype=float32)\n",
            "tf.Tensor([0.6878], shape=(1,), dtype=float32)\n",
            "\n",
            "\n",
            "Tanh\n",
            "tf.Tensor([0.34080228], shape=(1,), dtype=float32)\n",
            "tf.Tensor([0.5932646], shape=(1,), dtype=float32)\n",
            "\n",
            "\n",
            "reLU\n",
            "tf.Tensor([0.355], shape=(1,), dtype=float32)\n",
            "tf.Tensor([0.6878], shape=(1,), dtype=float32)\n"
          ]
        }
      ]
    },
    {
      "cell_type": "markdown",
      "source": [
        "Problem 2"
      ],
      "metadata": {
        "id": "UWljbn5aUVGT"
      }
    },
    {
      "cell_type": "code",
      "source": [
        "x1 = tf.constant([-4.0])\n",
        "x2 = tf.constant([0.5])\n",
        "x3 = tf.constant([4.0])\n",
        "\n",
        "def sigmoid_derivate(x):\n",
        "  return (sigmoid(x)*(1-sigmoid(x)))\n",
        "\n",
        "def tanH_derivate(x):\n",
        "  return (1 - tanh(x)**2)\n",
        "\n",
        "def reLu_derivate(x):\n",
        "  if(x <= 0):\n",
        "    return tf.constant([0])\n",
        "  return tf.constant([1])\n",
        "\n",
        "#gradient for sigmoid\n",
        "gradient_sigmoid_x1 = sigmoid_derivate(x1)\n",
        "gradient_sigmoid_x2 = sigmoid_derivate(x2)\n",
        "gradient_sigmoid_x3 = sigmoid_derivate(x3)\n",
        "\n",
        "#gradient for tanh\n",
        "gradient_tanH_x1 = tanH_derivate(x1)\n",
        "gradient_tanH_x2 = tanH_derivate(x2)\n",
        "gradient_tanH_x3 = tanH_derivate(x3)\n",
        "\n",
        "#gradient for reLu\n",
        "gradient_reLu_x1 = reLu_derivate(x1)\n",
        "gradient_reLu_x2 = reLu_derivate(x2)\n",
        "gradient_reLu_x3 = reLu_derivate(x3)\n",
        "\n",
        "\n",
        "print(\"Gradient for sigmoid:\")\n",
        "print(gradient_sigmoid_x1)\n",
        "print(gradient_sigmoid_x2)\n",
        "print(gradient_sigmoid_x3)\n",
        "print(\"\\n\")\n",
        "\n",
        "\n",
        "print(\"Gradient for tanh:\")\n",
        "print(gradient_tanH_x1)\n",
        "print(gradient_tanH_x2)\n",
        "print(gradient_tanH_x3)\n",
        "print(\"\\n\")\n",
        "\n",
        "print(\"Gradient for reLu:\")\n",
        "print(gradient_reLu_x1)\n",
        "print(gradient_reLu_x2)\n",
        "print(gradient_reLu_x3)\n",
        "\n"
      ],
      "metadata": {
        "colab": {
          "base_uri": "https://localhost:8080/"
        },
        "id": "Qm2U_JLCUWqI",
        "outputId": "7081c8b6-7c38-4846-d497-4749f8770ccf"
      },
      "execution_count": 42,
      "outputs": [
        {
          "output_type": "stream",
          "name": "stdout",
          "text": [
            "Gradient for sigmoid:\n",
            "tf.Tensor([0.01766271], shape=(1,), dtype=float32)\n",
            "tf.Tensor([0.23500371], shape=(1,), dtype=float32)\n",
            "tf.Tensor([0.01766273], shape=(1,), dtype=float32)\n",
            "\n",
            "\n",
            "Gradient for tanh:\n",
            "tf.Tensor([0.00134087], shape=(1,), dtype=float32)\n",
            "tf.Tensor([0.78644776], shape=(1,), dtype=float32)\n",
            "tf.Tensor([0.00134087], shape=(1,), dtype=float32)\n",
            "\n",
            "\n",
            "Gradient for reLu:\n",
            "tf.Tensor([0], shape=(1,), dtype=int32)\n",
            "tf.Tensor([1], shape=(1,), dtype=int32)\n",
            "tf.Tensor([1], shape=(1,), dtype=int32)\n"
          ]
        }
      ]
    },
    {
      "cell_type": "markdown",
      "source": [
        "Problem 3"
      ],
      "metadata": {
        "id": "y3ukJd95Zpbm"
      }
    },
    {
      "cell_type": "code",
      "source": [
        "V1 = tf.constant([2.3, 1.2, 0.3, 0.0])\n",
        "V2 = tf.constant([1.9, 1.7, 2.6, 0.2, 1.3])\n",
        "\n",
        "soft_max_1 = tf.nn.softmax(V1)\n",
        "soft_max_2 = tf.nn.softmax(V2)\n",
        "\n",
        "print(\"Soft max V1:\")\n",
        "print(soft_max_1)\n",
        "print(\"\\n\")\n",
        "print(\"Soft max V2:\")\n",
        "print(soft_max_2)\n",
        "\n"
      ],
      "metadata": {
        "colab": {
          "base_uri": "https://localhost:8080/"
        },
        "id": "sh-XDHz2Zq3W",
        "outputId": "6caa5eae-557e-405e-d5f9-fc24bd8246ba"
      },
      "execution_count": 47,
      "outputs": [
        {
          "output_type": "stream",
          "name": "stdout",
          "text": [
            "Soft max V1:\n",
            "tf.Tensor([0.6375659  0.21222727 0.08628516 0.06392162], shape=(4,), dtype=float32)\n",
            "\n",
            "\n",
            "Soft max V2:\n",
            "tf.Tensor([0.21910708 0.17938972 0.44122744 0.04002725 0.12024851], shape=(5,), dtype=float32)\n"
          ]
        }
      ]
    },
    {
      "cell_type": "markdown",
      "source": [
        "Problem 4"
      ],
      "metadata": {
        "id": "yWywIJ2GbwkN"
      }
    },
    {
      "cell_type": "code",
      "source": [
        "def cost_function(target, compValue):\n",
        "  return -1*((target * tf.math.log(compValue) + (1 - target) * (tf.math.log(1 - compValue))))\n",
        "  \n",
        "\n",
        "cf1 = cost_function(0, 0.95)\n",
        "cf2 = cost_function(0, 0.8)\n",
        "cf3 = cost_function(0, 0.6)\n",
        "cf4 = cost_function(0, 0.4)\n",
        "cf5 = cost_function(0, 0.1)\n",
        "\n",
        "cf6 = cost_function(1, 0.95)\n",
        "cf7 = cost_function(1, 0.8)\n",
        "cf8 = cost_function(1, 0.6)\n",
        "cf9 = cost_function(1, 0.4)\n",
        "cf10 = cost_function(1, 0.1)\n",
        "\n",
        "print(\"Target = 0\")\n",
        "print(cf1)\n",
        "print(cf2)\n",
        "print(cf3)\n",
        "print(cf4)\n",
        "print(cf5)\n",
        "print(\"\\n\")\n",
        "\n",
        "print(\"Target = 1\")\n",
        "print(cf6)\n",
        "print(cf7)\n",
        "print(cf8)\n",
        "print(cf9)\n",
        "print(cf10)\n",
        "\n",
        "\n",
        "\n",
        "\n",
        "\n",
        "\n"
      ],
      "metadata": {
        "colab": {
          "base_uri": "https://localhost:8080/"
        },
        "id": "MafY-lHFbx11",
        "outputId": "b6be291e-91fa-4478-8d33-d1d86db73461"
      },
      "execution_count": 49,
      "outputs": [
        {
          "output_type": "stream",
          "name": "stdout",
          "text": [
            "Target = 0\n",
            "tf.Tensor(2.9957323, shape=(), dtype=float32)\n",
            "tf.Tensor(1.609438, shape=(), dtype=float32)\n",
            "tf.Tensor(0.9162907, shape=(), dtype=float32)\n",
            "tf.Tensor(0.5108256, shape=(), dtype=float32)\n",
            "tf.Tensor(0.105360545, shape=(), dtype=float32)\n",
            "\n",
            "\n",
            "Target = 1\n",
            "tf.Tensor(0.051293306, shape=(), dtype=float32)\n",
            "tf.Tensor(0.22314353, shape=(), dtype=float32)\n",
            "tf.Tensor(0.5108256, shape=(), dtype=float32)\n",
            "tf.Tensor(0.9162907, shape=(), dtype=float32)\n",
            "tf.Tensor(2.3025851, shape=(), dtype=float32)\n"
          ]
        }
      ]
    },
    {
      "cell_type": "markdown",
      "source": [
        "Problem 5"
      ],
      "metadata": {
        "id": "VeoaVCG-d8Bd"
      }
    },
    {
      "cell_type": "code",
      "source": [
        "a = tf.constant([[5, 2, 3], [26, 56, 92], [3, 0, 26]])\n",
        "\n",
        "#argmax on column 0 and 1\n",
        "a1 = tf.argmax(a,axis=0)\n",
        "a2 = tf.argmax(a,axis=1)\n",
        "\n",
        "print(\"a1:\")\n",
        "print(a1)\n",
        "print(\"\\n\")\n",
        "print(\"a2:\")\n",
        "print(a2)\n",
        "\n"
      ],
      "metadata": {
        "colab": {
          "base_uri": "https://localhost:8080/"
        },
        "id": "pS17Rgksd9aG",
        "outputId": "10d28120-383d-4db3-c975-f3948f152fbf"
      },
      "execution_count": 51,
      "outputs": [
        {
          "output_type": "stream",
          "name": "stdout",
          "text": [
            "a1:\n",
            "tf.Tensor([1 1 1], shape=(3,), dtype=int64)\n",
            "\n",
            "\n",
            "a2:\n",
            "tf.Tensor([0 2 2], shape=(3,), dtype=int64)\n"
          ]
        }
      ]
    },
    {
      "cell_type": "markdown",
      "source": [
        "Problem 6"
      ],
      "metadata": {
        "id": "YIqdZFGqhRrW"
      }
    },
    {
      "cell_type": "code",
      "source": [
        "W1 = tf.constant([[-4.], [-6.], [-5.], [3.], [6.], [4.]])\n",
        "b1 = tf.constant([[-2.], [3.], [-2.]])\n",
        "W2 = tf.constant([[5.], [-9.], [7.]])\n",
        "b2 = tf.constant([4.])\n",
        "\n",
        "def sigmoid(x):\n",
        "  return (1/(1+tf.math.exp(-x)))\n",
        "\n",
        "def error(computed_value, true_output):\n",
        "  return (computed_value - true_output)**2\n",
        "\n",
        "@tf.function\n",
        "def computed_value(x1, x2):\n",
        "  z11 = (x1 * W1[0]) + (x2 * W1[3]) + b1[0]\n",
        "  z12 = (x1 * W1[1]) + (x2 * W1[4]) + b1[1]\n",
        "  z13 = (x1 * W1[2]) + (x2 * W1[5]) + b1[2]\n",
        "\n",
        "  a1 = sigmoid(z11)\n",
        "  a2 = sigmoid(z12)\n",
        "  a3 = sigmoid(z13)\n",
        "\n",
        "  z21 = ((a1 * W2[0]) + (a2 * W2[1]) +  (a3 * W2[2]) + (b2[0]))\n",
        "\n",
        "  a_out = sigmoid(z21)\n",
        "\n",
        "  return a_out\n",
        "\n",
        "\n",
        "computet_output_1 = computed_value(0.,0.)\n",
        "computet_output_2 = computed_value(1,0)\n",
        "computet_output_3 = computed_value(0,1)\n",
        "computet_output_4 = computed_value(1,1)\n",
        "\n",
        "error_output_1 = error(computet_output_1, 0)\n",
        "error_output_2 = error(computet_output_2, 1)\n",
        "error_output_3 = error(computet_output_3, 1)\n",
        "error_output_4 = error(computet_output_4, 0)\n",
        "\n",
        "\n",
        "\n",
        "print(\"Computed output and error:\")\n",
        "print(\"Input 1: 0, Input 2: 0\")\n",
        "print(computet_output_1)\n",
        "print(error_output_1)\n",
        "print(\"\\n\")\n",
        "print(\"Input 1: 1, Input 2: 0\")\n",
        "print(computet_output_2)\n",
        "print(error_output_2)\n",
        "print(\"\\n\")\n",
        "print(\"Input 1: 0, Input 2: 1\")\n",
        "print(computet_output_3)\n",
        "print(error_output_3)\n",
        "print(\"\\n\")\n",
        "print(\"Input 1: 1, Input 2: 1\")\n",
        "print(computet_output_4)\n",
        "print(error_output_4)\n",
        "\n",
        "\n",
        "\n",
        "\n",
        "\n",
        "\n",
        "\n",
        "\n",
        "\n",
        "\n",
        "\n",
        "\n",
        "\n",
        "\n",
        "\n",
        "  \n",
        "\n",
        "\n",
        "\n",
        "\n"
      ],
      "metadata": {
        "id": "FPVq1L2GhS-J",
        "colab": {
          "base_uri": "https://localhost:8080/"
        },
        "outputId": "fa059d9f-3824-422e-a54b-f5ae46020e06"
      },
      "execution_count": 52,
      "outputs": [
        {
          "output_type": "stream",
          "name": "stderr",
          "text": [
            "WARNING:tensorflow:5 out of the last 5 calls to <function computed_value at 0x7f63e832ca70> triggered tf.function retracing. Tracing is expensive and the excessive number of tracings could be due to (1) creating @tf.function repeatedly in a loop, (2) passing tensors with different shapes, (3) passing Python objects instead of tensors. For (1), please define your @tf.function outside of the loop. For (2), @tf.function has reduce_retracing=True option that can avoid unnecessary retracing. For (3), please refer to https://www.tensorflow.org/guide/function#controlling_retracing and https://www.tensorflow.org/api_docs/python/tf/function for  more details.\n"
          ]
        },
        {
          "output_type": "stream",
          "name": "stdout",
          "text": [
            "Computed output and error:\n",
            "Input 1: 0, Input 2: 0\n",
            "tf.Tensor([0.04137863], shape=(1,), dtype=float32)\n",
            "tf.Tensor([0.00171219], shape=(1,), dtype=float32)\n",
            "\n",
            "\n",
            "Input 1: 1, Input 2: 0\n",
            "tf.Tensor([0.97319275], shape=(1,), dtype=float32)\n",
            "tf.Tensor([0.00071863], shape=(1,), dtype=float32)\n",
            "\n",
            "\n",
            "Input 1: 0, Input 2: 1\n",
            "tf.Tensor([0.9920135], shape=(1,), dtype=float32)\n",
            "tf.Tensor([6.3783955e-05], shape=(1,), dtype=float32)\n",
            "\n",
            "\n",
            "Input 1: 1, Input 2: 1\n",
            "tf.Tensor([0.01791469], shape=(1,), dtype=float32)\n",
            "tf.Tensor([0.00032094], shape=(1,), dtype=float32)\n"
          ]
        }
      ]
    }
  ]
}