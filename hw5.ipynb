{
  "nbformat": 4,
  "nbformat_minor": 0,
  "metadata": {
    "colab": {
      "provenance": [],
      "collapsed_sections": [],
      "authorship_tag": "ABX9TyNPvYrnuqDxbBfbbVnnVaze",
      "include_colab_link": true
    },
    "kernelspec": {
      "name": "python3",
      "display_name": "Python 3"
    },
    "language_info": {
      "name": "python"
    }
  },
  "cells": [
    {
      "cell_type": "markdown",
      "metadata": {
        "id": "view-in-github",
        "colab_type": "text"
      },
      "source": [
        "<a href=\"https://colab.research.google.com/github/SimenKlemp/Tensorflow/blob/main/hw5.ipynb\" target=\"_parent\"><img src=\"https://colab.research.google.com/assets/colab-badge.svg\" alt=\"Open In Colab\"/></a>"
      ]
    },
    {
      "cell_type": "markdown",
      "source": [
        "# **Problem 1**"
      ],
      "metadata": {
        "id": "FYd-g7RPconq"
      }
    },
    {
      "cell_type": "code",
      "source": [
        "import numpy as np\n",
        "import matplotlib.pyplot as plt\n",
        "\n",
        "def dz_dx(x, y): \n",
        "  return ((x-2)/(np.sqrt(25 - (x-2)**2 - (y-3)**2)))\n",
        "\n",
        "\n",
        "def dz_dy(x, y): \n",
        "  return ((y-3)/(np.sqrt(25 - (x-2)**2 - (y-3)**2)))\n",
        "\n",
        "\n",
        "x_start = 0.01\n",
        "y_start = 0.01\n",
        "\n",
        "learning_rate = 0.01\n",
        "max_limit = 4419\n",
        "\n",
        "x_start_history = np.zeros(max_limit) \n",
        "y_start_history = np.zeros(max_limit)\n",
        "\n",
        "x_incremental = x_start\n",
        "y_incremental = y_start\n",
        "\n",
        "i = 0\n",
        "\n",
        "while(x_incremental > 0.000001 and y_incremental > 0.000001):\n",
        "\n",
        "  x_start_history[i] = x_start\n",
        "  y_start_history[i] = y_start\n",
        "\n",
        "  dx = dz_dx(x_start, y_start)\n",
        "  dy = dz_dy(x_start, y_start)\n",
        "\n",
        "  x_start = x_start - learning_rate * dx\n",
        "  y_start = y_start - learning_rate * dy\n",
        "\n",
        "  x_incremental = x_start - x_start_history[i-1]\n",
        "  y_incremental = y_start - y_start_history[i-1]\n",
        "\n",
        "  i += 1\n",
        "\n",
        "\n",
        "plt.plot(x_start_history)\n",
        "plt.plot(y_start_history)\n",
        "print(i)"
      ],
      "metadata": {
        "colab": {
          "base_uri": "https://localhost:8080/",
          "height": 283
        },
        "id": "wgY6wgY-gR_M",
        "outputId": "df0d4b96-465c-43f3-f0be-12841453b521"
      },
      "execution_count": null,
      "outputs": [
        {
          "output_type": "stream",
          "name": "stdout",
          "text": [
            "4419\n"
          ]
        },
        {
          "output_type": "display_data",
          "data": {
            "text/plain": [
              "<Figure size 432x288 with 1 Axes>"
            ],
            "image/png": "[encoded data removed]"
          },
          "metadata": {
            "needs_background": "light"
          }
        }
      ]
    },
    {
      "cell_type": "markdown",
      "source": [
        "x = 2, y = 3.\n",
        "\n",
        "The Gradient Descent algortihm converges after 4419 steps when start values are x_start = 0.01 and y_start = 0.01"
      ],
      "metadata": {
        "id": "CHu10rYovocx"
      }
    },
    {
      "cell_type": "markdown",
      "source": [
        "# **Problem 2**"
      ],
      "metadata": {
        "id": "-LXVN-MIwLY9"
      }
    },
    {
      "cell_type": "markdown",
      "source": [
        "**Using sklearn**"
      ],
      "metadata": {
        "id": "vjJHWT9PzT31"
      }
    },
    {
      "cell_type": "code",
      "source": [
        "from sklearn import linear_model\n",
        "\n",
        "n_samples = 30\n",
        "train_x = np.linspace(0,20, n_samples)\n",
        "train_y = 3.7 * train_x + 14 + 4 * np.random.randn(n_samples)\n",
        "plt.plot(train_x, train_y,'o')\n",
        "\n",
        "x = train_x.reshape(-1,1)\n",
        "y = train_y.reshape(-1,1)"
      ],
      "metadata": {
        "colab": {
          "base_uri": "https://localhost:8080/",
          "height": 265
        },
        "id": "08TUacULwNwz",
        "outputId": "192d7b1e-efc9-42b5-c9e5-194ad9f95994"
      },
      "execution_count": null,
      "outputs": [
        {
          "output_type": "display_data",
          "data": {
            "text/plain": [
              "<Figure size 432x288 with 1 Axes>"
            ],
            "image/png": "[encoded data removed]"
          },
          "metadata": {
            "needs_background": "light"
          }
        }
      ]
    },
    {
      "cell_type": "markdown",
      "source": [
        "**Using sklearn**"
      ],
      "metadata": {
        "id": "afBbp7ES2Tlb"
      }
    },
    {
      "cell_type": "code",
      "source": [
        "linreg = linear_model.LinearRegression()\n",
        "linreg.fit(x,y)\n",
        "\n",
        "print('Regression Equation Scikit')\n",
        "print('Intercept = ', linreg.intercept_)\n",
        "print('Slope = ', linreg.coef_)\n",
        "print(\"\\n\")\n"
      ],
      "metadata": {
        "colab": {
          "base_uri": "https://localhost:8080/"
        },
        "id": "lzx_d1Z42V70",
        "outputId": "68ed48b1-5288-44e6-bff1-f4905de563f3"
      },
      "execution_count": null,
      "outputs": [
        {
          "output_type": "stream",
          "name": "stdout",
          "text": [
            "Regression Equation Scikit\n",
            "Intercept =  [14.56471274]\n",
            "Slope =  [[3.66278839]]\n",
            "\n",
            "\n"
          ]
        }
      ]
    },
    {
      "cell_type": "markdown",
      "source": [
        "**Using Gradient Descent Algorithm**"
      ],
      "metadata": {
        "id": "KGtYILVFzKFt"
      }
    },
    {
      "cell_type": "code",
      "source": [
        "def dRSS_dm(m,b):\n",
        "  return (-2*sum((y-m*x-b)*x))\n",
        "\n",
        "def dRSS_db(m,b):\n",
        "  return (-2*sum((y-m*x-b)))\n",
        "\n",
        "\n",
        "m_start = 0.5\n",
        "b_start = 0.5\n",
        "learning_rate = 0.0001\n",
        "max_limit = 5000\n",
        "\n",
        "m_history = np.zeros(max_limit)\n",
        "b_history = np.zeros(max_limit)\n",
        "\n",
        "for i in range(max_limit):\n",
        "  m_history[i] = m_start\n",
        "  b_history[i] = b_start\n",
        "\n",
        "  dm = dRSS_dm(m_start, b_start)\n",
        "  db = dRSS_db(m_start, b_start)\n",
        "\n",
        "  m_start = m_start - learning_rate * dm\n",
        "  b_start = b_start - learning_rate * db\n",
        "\n",
        "print(\"mHistory\", m_history[max_limit - 1])\n",
        "print(\"bHistory\", b_history[max_limit - 1])\n",
        "\n",
        "plt.plot(m_history)\n",
        "plt.plot(b_history)\n",
        "\n",
        "\n",
        "\n",
        "\n",
        "\n"
      ],
      "metadata": {
        "colab": {
          "base_uri": "https://localhost:8080/",
          "height": 319
        },
        "id": "Sz9YPY5OzQDe",
        "outputId": "a8fc5546-59cc-4bd3-e114-5fec1c27a386"
      },
      "execution_count": null,
      "outputs": [
        {
          "output_type": "stream",
          "name": "stdout",
          "text": [
            "mHistory 3.663187124474776\n",
            "bHistory 14.559314973682\n"
          ]
        },
        {
          "output_type": "execute_result",
          "data": {
            "text/plain": [
              "[<matplotlib.lines.Line2D at 0x7f5619942e50>]"
            ]
          },
          "metadata": {},
          "execution_count": 77
        },
        {
          "output_type": "display_data",
          "data": {
            "text/plain": [
              "<Figure size 432x288 with 1 Axes>"
            ],
            "image/png": "[encoded data removed]"
          },
          "metadata": {
            "needs_background": "light"
          }
        }
      ]
    }
  ]
}