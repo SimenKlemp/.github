{
  "nbformat": 4,
  "nbformat_minor": 0,
  "metadata": {
    "colab": {
      "provenance": [],
      "authorship_tag": "ABX9TyOPVW2nZY7atwxWavdHgx1+",
      "include_colab_link": true
    },
    "kernelspec": {
      "name": "python3",
      "display_name": "Python 3"
    },
    "language_info": {
      "name": "python"
    }
  },
  "cells": [
    {
      "cell_type": "markdown",
      "metadata": {
        "id": "view-in-github",
        "colab_type": "text"
      },
      "source": [
        "<a href=\"https://colab.research.google.com/github/SimenKlemp/Tensorflow/blob/main/hw6.ipynb\" target=\"_parent\"><img src=\"https://colab.research.google.com/assets/colab-badge.svg\" alt=\"Open In Colab\"/></a>"
      ]
    },
    {
      "cell_type": "markdown",
      "source": [
        "# **Problem 1**"
      ],
      "metadata": {
        "id": "6D0-65r5R2ki"
      }
    },
    {
      "cell_type": "code",
      "execution_count": 2,
      "metadata": {
        "id": "YneGqQKARz7F"
      },
      "outputs": [],
      "source": [
        "import numpy as np\n",
        "import matplotlib.pyplot as plt\n",
        "\n",
        "def dz_dx(x, y): \n",
        "  return ((x-2)/(np.sqrt(25 - (x-2)**2 - (y-3)**2)))\n",
        "\n",
        "\n",
        "def dz_dy(x, y): \n",
        "  return ((y-3)/(np.sqrt(25 - (x-2)**2 - (y-3)**2)))\n"
      ]
    },
    {
      "cell_type": "markdown",
      "source": [
        "**Using GD**"
      ],
      "metadata": {
        "id": "Ho6LqHj_c7UD"
      }
    },
    {
      "cell_type": "code",
      "source": [
        "x_start_gd = 0.01\n",
        "y_start_gd = 0.01\n",
        "\n",
        "learning_rate = 0.01\n",
        "\n",
        "max_limit_gd = 4419\n",
        "\n",
        "x_start_history_gd = np.zeros(max_limit_gd) \n",
        "y_start_history_gd = np.zeros(max_limit_gd)\n",
        "\n",
        "x_incremental_gd = x_start_gd\n",
        "y_incremental_gd = y_start_gd\n",
        "\n",
        "i_gd = 0\n",
        "\n",
        "while(x_incremental_gd > 0.000001 and y_incremental_gd > 0.000001):\n",
        "\n",
        "  x_start_history_gd[i_gd] = x_start_gd\n",
        "  y_start_history_gd[i_gd] = y_start_gd\n",
        "\n",
        "  dx = dz_dx(x_start_gd, y_start_gd)\n",
        "  dy = dz_dy(x_start_gd, y_start_gd)\n",
        "\n",
        "  x_start_gd = x_start_gd - learning_rate * dx\n",
        "  y_start_gd = y_start_gd - learning_rate * dy\n",
        "\n",
        "  x_incremental_gd = x_start_gd - x_start_history_gd[i_gd-1]\n",
        "  y_incremental_gd = y_start_gd - y_start_history_gd[i_gd-1]\n",
        "\n",
        "  i_gd += 1\n",
        "\n",
        "\n",
        "print(\"x = \", x_start_history_gd[max_limit_gd - 1])\n",
        "print(\"y = \", y_start_history_gd[max_limit_gd - 1])\n",
        "\n",
        "plt.plot(x_start_history_gd)\n",
        "plt.plot(y_start_history_gd)\n",
        "print(\"ephochs needed to converge:\", i_gd)"
      ],
      "metadata": {
        "colab": {
          "base_uri": "https://localhost:8080/",
          "height": 319
        },
        "id": "0Mjmqz15c6pp",
        "outputId": "5bb4c4f2-62d7-4314-b8b7-7d9e0a22f276"
      },
      "execution_count": 16,
      "outputs": [
        {
          "output_type": "stream",
          "name": "stdout",
          "text": [
            "x =  1.9997506036725685\n",
            "y =  2.9996252788849134\n",
            "ephochs needed to converge: 4419\n"
          ]
        },
        {
          "output_type": "display_data",
          "data": {
            "text/plain": [
              "<Figure size 432x288 with 1 Axes>"
            ],
            "image/png": "[encoded data removed]"
          },
          "metadata": {
            "needs_background": "light"
          }
        }
      ]
    },
    {
      "cell_type": "markdown",
      "source": [
        "**Using Momentum**"
      ],
      "metadata": {
        "id": "G_uW55YZb8v8"
      }
    },
    {
      "cell_type": "code",
      "source": [
        "x_start_momentum = 0.01\n",
        "y_start_momentum = 0.01\n",
        "\n",
        "max_limit_momentum = 436\n",
        "\n",
        "x_start_history_momentum = np.zeros(max_limit_momentum) \n",
        "y_start_history_momentum = np.zeros(max_limit_momentum)\n",
        "\n",
        "x_incremental_momentum = x_start_momentum\n",
        "y_incremental_momentum = y_start_momentum\n",
        "\n",
        "gamma = 0.9\n",
        "update_x = 0\n",
        "update_y = 0\n",
        "\n",
        "i_momentum = 0\n",
        "\n",
        "while(x_incremental_momentum > 0.000001 and y_incremental_momentum > 0.000001):\n",
        "\n",
        "  x_start_history_momentum[i_momentum] = x_start_momentum\n",
        "  y_start_history_momentum[i_momentum] = y_start_momentum\n",
        "\n",
        "  dx = dz_dx(x_start_momentum, y_start_momentum)\n",
        "  dy = dz_dy(x_start_momentum, y_start_momentum)\n",
        "\n",
        "  update_x = (gamma * update_x) + learning_rate * dx\n",
        "  update_y = (gamma * update_y) + learning_rate * dy\n",
        "\n",
        "  x_start_momentum = x_start_momentum - update_x\n",
        "  y_start_momentum = y_start_momentum - update_y\n",
        "\n",
        "  x_incremental_momentum = x_start_momentum - x_start_history_momentum[i_momentum-1]\n",
        "  y_incremental_momentum = y_start_momentum - y_start_history_momentum[i_momentum-1]\n",
        "\n",
        "  i_momentum += 1\n",
        "\n",
        "\n",
        "print(\"x = \", x_start_history_momentum[max_limit_momentum - 1])\n",
        "print(\"y = \", y_start_history_momentum[max_limit_momentum - 1])\n",
        "\n",
        "plt.plot(x_start_history_momentum)\n",
        "plt.plot(y_start_history_momentum)\n",
        "print(\"ephochs needed to converge:\", i_momentum)"
      ],
      "metadata": {
        "colab": {
          "base_uri": "https://localhost:8080/",
          "height": 319
        },
        "id": "jG6OjD01b_O6",
        "outputId": "65c57b53-cecd-4c71-e8e3-b4df4e674b2c"
      },
      "execution_count": 15,
      "outputs": [
        {
          "output_type": "stream",
          "name": "stdout",
          "text": [
            "x =  1.9999815097369364\n",
            "y =  2.999972218147459\n",
            "ephochs needed to converge: 436\n"
          ]
        },
        {
          "output_type": "display_data",
          "data": {
            "text/plain": [
              "<Figure size 432x288 with 1 Axes>"
            ],
            "image/png": "[encoded data removed]"
          },
          "metadata": {
            "needs_background": "light"
          }
        }
      ]
    },
    {
      "cell_type": "markdown",
      "source": [
        "# **Problem 2**"
      ],
      "metadata": {
        "id": "lhW7XeTAYWiW"
      }
    },
    {
      "cell_type": "code",
      "source": [
        "##Printing ephocs for gd and momentum\n",
        "print(\"Ephocs needed with momentum:\", i_momentum)\n",
        "print(\"Ephochs needed with gd:\", i_gd)\n",
        "\n",
        "##Computing the convergence difference \n",
        "convergence_difference = i_momentum/i_gd\n",
        "\n",
        "print(\"Momentum will converge with\", convergence_difference * 100,\n",
        "\"% less ephocs than gd\")"
      ],
      "metadata": {
        "colab": {
          "base_uri": "https://localhost:8080/",
          "height": 0
        },
        "id": "REeSV76kYZEI",
        "outputId": "f63b8bbd-6970-40eb-ed87-c9a66d395bd3"
      },
      "execution_count": 18,
      "outputs": [
        {
          "output_type": "stream",
          "name": "stdout",
          "text": [
            "Ephocs needed with momentum: 436\n",
            "Ephochs needed with gd: 4419\n",
            "Momentum will converge with 9.866485630233084 % less ephocs than gd\n"
          ]
        }
      ]
    },
    {
      "cell_type": "markdown",
      "source": [
        "The result shows us that Momentum as optimizer will cause a convergence with approximetly 10% less ephochs!"
      ],
      "metadata": {
        "id": "KYguLx9weYN0"
      }
    }
  ]
}