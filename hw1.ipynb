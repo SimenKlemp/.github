{
  "nbformat": 4,
  "nbformat_minor": 0,
  "metadata": {
    "colab": {
      "provenance": [],
      "collapsed_sections": [],
      "authorship_tag": "ABX9TyO9hAr6MLumWJZIiHayJEHb",
      "include_colab_link": true
    },
    "kernelspec": {
      "name": "python3",
      "display_name": "Python 3"
    },
    "language_info": {
      "name": "python"
    }
  },
  "cells": [
    {
      "cell_type": "markdown",
      "metadata": {
        "id": "view-in-github",
        "colab_type": "text"
      },
      "source": [
        "<a href=\"https://colab.research.google.com/github/SimenKlemp/.github/blob/main/hw1.ipynb\" target=\"_parent\"><img src=\"https://colab.research.google.com/assets/colab-badge.svg\" alt=\"Open In Colab\"/></a>"
      ]
    },
    {
      "cell_type": "markdown",
      "source": [
        "# **Problem 1**"
      ],
      "metadata": {
        "id": "KWVxFAqBGMOR"
      }
    },
    {
      "cell_type": "code",
      "execution_count": 3,
      "metadata": {
        "colab": {
          "base_uri": "https://localhost:8080/"
        },
        "id": "zgFe9BFzGIzg",
        "outputId": "bbaf5eec-6633-4a82-f80f-a3b803bdd4c5"
      },
      "outputs": [
        {
          "output_type": "stream",
          "name": "stdout",
          "text": [
            "2.9.2\n",
            "2.9.0\n"
          ]
        }
      ],
      "source": [
        "import tensorflow as tf\n",
        "import keras as ks\n",
        "\n",
        "print(tf.__version__)\n",
        "print(ks.__version__)"
      ]
    },
    {
      "cell_type": "markdown",
      "source": [
        "# **Problem 2**"
      ],
      "metadata": {
        "id": "_fzK2TJQG8ha"
      }
    },
    {
      "cell_type": "code",
      "source": [
        "\n",
        "x= tf.constant([100, 101, 102, 103, 104, 105, 106, 107, 108, 109])\n",
        "y = tf.constant([34, 28, 45, 67, 89, 93, 24, 49, 11, 7])\n",
        "\n",
        "z = tf.add(x,y)\n",
        "\n",
        "print(z)\n"
      ],
      "metadata": {
        "colab": {
          "base_uri": "https://localhost:8080/"
        },
        "id": "SupVLVEEG7cU",
        "outputId": "2d234784-53b6-4c92-900f-e0ec29a0e2cf"
      },
      "execution_count": 36,
      "outputs": [
        {
          "output_type": "stream",
          "name": "stdout",
          "text": [
            "tf.Tensor([134 129 147 170 193 198 130 156 119 116], shape=(10,), dtype=int32)\n"
          ]
        }
      ]
    },
    {
      "cell_type": "markdown",
      "source": [
        "# **Problem 3**"
      ],
      "metadata": {
        "id": "QSt53lUkG7yM"
      }
    },
    {
      "cell_type": "code",
      "source": [
        "x1 = tf.constant([[1,2,3,4],[5,6,7,8]])\n",
        "\n",
        "x2 = tf.stack([x1, x1, x1, x1])\n",
        "\n",
        "print(x2)"
      ],
      "metadata": {
        "colab": {
          "base_uri": "https://localhost:8080/"
        },
        "id": "pZqoPgmKHgMz",
        "outputId": "2a471a32-6b74-48ea-956c-0e66f66cb71b"
      },
      "execution_count": 5,
      "outputs": [
        {
          "output_type": "stream",
          "name": "stdout",
          "text": [
            "tf.Tensor(\n",
            "[[[1 2 3 4]\n",
            "  [5 6 7 8]]\n",
            "\n",
            " [[1 2 3 4]\n",
            "  [5 6 7 8]]\n",
            "\n",
            " [[1 2 3 4]\n",
            "  [5 6 7 8]]\n",
            "\n",
            " [[1 2 3 4]\n",
            "  [5 6 7 8]]], shape=(4, 2, 4), dtype=int32)\n"
          ]
        }
      ]
    },
    {
      "cell_type": "markdown",
      "source": [
        "# **Problem 4**"
      ],
      "metadata": {
        "id": "7-EaEiT-I7hw"
      }
    },
    {
      "cell_type": "code",
      "source": [
        "x1 = tf.constant([[1,2,3,4],[5,6,7,8]])\n",
        "\n",
        "x2= tf.stack([x1])\n",
        "\n",
        "print(x2)"
      ],
      "metadata": {
        "colab": {
          "base_uri": "https://localhost:8080/"
        },
        "id": "PrvHHrcAJAid",
        "outputId": "f8240bcc-2b9e-4868-8a2e-3e324268a77d"
      },
      "execution_count": 6,
      "outputs": [
        {
          "output_type": "stream",
          "name": "stdout",
          "text": [
            "tf.Tensor(\n",
            "[[[1 2 3 4]\n",
            "  [5 6 7 8]]], shape=(1, 2, 4), dtype=int32)\n"
          ]
        }
      ]
    },
    {
      "cell_type": "markdown",
      "source": [
        "# **Problem 5**"
      ],
      "metadata": {
        "id": "gbE0ES8cJPLv"
      }
    },
    {
      "cell_type": "code",
      "source": [
        "x1 = tf.constant([[1,2,3,4],[5,6,7,8],[9,10,11,12]])\n",
        "\n",
        "x2 = tf.reshape(x1, [6,2])\n",
        "\n",
        "print(x2)\n",
        "\n"
      ],
      "metadata": {
        "colab": {
          "base_uri": "https://localhost:8080/"
        },
        "id": "5_q3sRSWJQ-6",
        "outputId": "9772736e-f316-45d5-9b87-7a85fb283352"
      },
      "execution_count": 7,
      "outputs": [
        {
          "output_type": "stream",
          "name": "stdout",
          "text": [
            "tf.Tensor(\n",
            "[[ 1  2]\n",
            " [ 3  4]\n",
            " [ 5  6]\n",
            " [ 7  8]\n",
            " [ 9 10]\n",
            " [11 12]], shape=(6, 2), dtype=int32)\n"
          ]
        }
      ]
    },
    {
      "cell_type": "markdown",
      "source": [
        "# **Problem 6**\n"
      ],
      "metadata": {
        "id": "puYFmBSDMGCc"
      }
    },
    {
      "cell_type": "code",
      "source": [
        "a = tf.constant([1.12])\n",
        "b = tf.constant([2.34])\n",
        "c = tf.constant([0.72])\n",
        "d = tf.constant([0.81])\n",
        "f = tf.constant([19.83])\n",
        "\n",
        "x = 1 + a/b + c/f**2\n",
        "\n",
        "s = (b - a)/(d - c)\n",
        "\n",
        "r = (1/((1/a) + (1/b) + (1/c) + (1/d)))\n",
        "\n",
        "y = a*b*(1/c)*((f**2)/2)\n",
        "\n",
        "\n",
        "print(x)\n",
        "print(s)\n",
        "print(r)\n",
        "print(y)"
      ],
      "metadata": {
        "colab": {
          "base_uri": "https://localhost:8080/"
        },
        "id": "tQ4L96FaMKN1",
        "outputId": "664fe1f5-e99e-4090-c1c7-156ce17ef8b1"
      },
      "execution_count": 9,
      "outputs": [
        {
          "output_type": "stream",
          "name": "stdout",
          "text": [
            "tf.Tensor([1.4804634], shape=(1,), dtype=float32)\n",
            "tf.Tensor([13.555558], shape=(1,), dtype=float32)\n",
            "tf.Tensor([0.25357127], shape=(1,), dtype=float32)\n",
            "tf.Tensor([715.6765], shape=(1,), dtype=float32)\n"
          ]
        }
      ]
    },
    {
      "cell_type": "markdown",
      "source": [
        "# **Problem 7**\n",
        "\n",
        "\n",
        "\n"
      ],
      "metadata": {
        "id": "6T2Lalbari2y"
      }
    },
    {
      "cell_type": "code",
      "source": [
        "##Defining the matrixes\n",
        "\n",
        "A = tf.constant([[4,-2,1],\n",
        "                 [6,8,-5],\n",
        "                 [7,9,10]])\n",
        "\n",
        "B = tf.constant([[6,9,-4],\n",
        "                 [7,5,3],\n",
        "                 [-8,2,1]])\n",
        "\n",
        "C = tf.constant([[-4,-5,2],\n",
        "                 [10,6,1],\n",
        "                 [3,-9,8]])"
      ],
      "metadata": {
        "id": "aJ2tx1Vlrqru"
      },
      "execution_count": 10,
      "outputs": []
    },
    {
      "cell_type": "markdown",
      "source": [
        "### **a. Associative property** **--> A(B+C) = AB + AC**\n",
        "\n"
      ],
      "metadata": {
        "id": "cSc2S0DZtMfQ"
      }
    },
    {
      "cell_type": "code",
      "source": [
        "##Defining the matrix equations\n",
        "mat_add = tf.add(B, C)\n",
        "mat_mul_left = tf.matmul(A, mat_add)\n",
        "mat_mul_right = tf.matmul(A,B) + tf.matmul(A,C)\n",
        "\n",
        "print(mat_mul_left)\n",
        "print(\"------------\")\n",
        "print(mat_mul_right)\n",
        "print(\"-----------\")\n",
        "\n",
        "##Check equality of both sides\n",
        "tf.math.equal(mat_mul_left, mat_mul_right)\n",
        " \n"
      ],
      "metadata": {
        "colab": {
          "base_uri": "https://localhost:8080/"
        },
        "id": "ZPGrFnPctSDp",
        "outputId": "6d140b52-7ee5-4c4a-8aaa-d4a7edf27c3e"
      },
      "execution_count": 33,
      "outputs": [
        {
          "output_type": "stream",
          "name": "stdout",
          "text": [
            "tf.Tensor(\n",
            "[[-31 -13  -7]\n",
            " [173 147 -25]\n",
            " [117  57 112]], shape=(3, 3), dtype=int32)\n",
            "------------\n",
            "tf.Tensor(\n",
            "[[-31 -13  -7]\n",
            " [173 147 -25]\n",
            " [117  57 112]], shape=(3, 3), dtype=int32)\n",
            "-----------\n"
          ]
        },
        {
          "output_type": "execute_result",
          "data": {
            "text/plain": [
              "<tf.Tensor: shape=(3, 3), dtype=bool, numpy=\n",
              "array([[ True,  True,  True],\n",
              "       [ True,  True,  True],\n",
              "       [ True,  True,  True]])>"
            ]
          },
          "metadata": {},
          "execution_count": 33
        }
      ]
    },
    {
      "cell_type": "markdown",
      "source": [
        "### **b. Distributive property** **--> (AB)C = A(BC) **"
      ],
      "metadata": {
        "id": "K7rSGFzowz6T"
      }
    },
    {
      "cell_type": "code",
      "source": [
        "##Defining the matrix equations\n",
        "mat_mul_left = tf.matmul(tf.matmul(A, B), C)\n",
        "mat_mul_right = tf.matmul(A, tf.matmul(B,C))\n",
        "\n",
        "print(mat_mul_left)\n",
        "print(\"------------\")\n",
        "print(mat_mul_right)\n",
        "print(\"-----------\")\n",
        "\n",
        "##Check equality of both sides\n",
        "tf.math.equal(mat_mul_left, mat_mul_right)\n"
      ],
      "metadata": {
        "colab": {
          "base_uri": "https://localhost:8080/"
        },
        "id": "i-Vnyf-uw5hO",
        "outputId": "c4a34c30-b6b9-4698-9221-c2b3c0473148"
      },
      "execution_count": 34,
      "outputs": [
        {
          "output_type": "stream",
          "name": "stdout",
          "text": [
            "tf.Tensor(\n",
            "[[ 209  347 -136]\n",
            " [ 297 -111  308]\n",
            " [1207  562  250]], shape=(3, 3), dtype=int32)\n",
            "------------\n",
            "tf.Tensor(\n",
            "[[ 209  347 -136]\n",
            " [ 297 -111  308]\n",
            " [1207  562  250]], shape=(3, 3), dtype=int32)\n",
            "-----------\n"
          ]
        },
        {
          "output_type": "execute_result",
          "data": {
            "text/plain": [
              "<tf.Tensor: shape=(3, 3), dtype=bool, numpy=\n",
              "array([[ True,  True,  True],\n",
              "       [ True,  True,  True],\n",
              "       [ True,  True,  True]])>"
            ]
          },
          "metadata": {},
          "execution_count": 34
        }
      ]
    }
  ]
}